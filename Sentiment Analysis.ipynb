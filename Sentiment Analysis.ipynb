{
 "cells": [
  {
   "cell_type": "markdown",
   "id": "1f9bec8d",
   "metadata": {},
   "source": [
    "### Midterm Exam\n",
    "\n",
    "Start Time: 3/12/2024 10:00am, Due Time: 3/12/2024 11:30am EST.\n",
    "\n",
    "**NOTE: This exam is open book/notes and you have 90 minutes for the exam. (100 points.)**\n",
    "\n",
    "**Late submission will not be accepted. Please submit this notebook in BrightSpace before the exam expires!**\n",
    "\n",
    "**ChatGPT is not allowed!**\n",
    "\n"
   ]
  },
  {
   "cell_type": "markdown",
   "id": "17d8d831",
   "metadata": {},
   "source": [
    "### Problem 1 (60 points): \n",
    "Please write down your answers to the following questions (no code needed, please answer with your explanations or understandings for each question):\n",
    "\n",
    "(1) Please describe how we do sampling with replacement, sampling without replacement and stratified sampling. (15 points)"
   ]
  },
  {
   "cell_type": "markdown",
   "id": "1e1ec807",
   "metadata": {},
   "source": [
    "Sampling is where you take a portion of a population to use for some specific purpose. Sampling with replacement is where we randomly select a value from the population and then leave it in there for the next time when we randomly select the next point. This means that the already selected value can be selected again or even several times. In sampling without replacement, the randomly selected value is removed from the population so it can no longer be selected again. This decreases the size of the population for the next pick since there is one less value that can be chosen. Stratified sampling is where we create several subpopulations based on the original population. Each new subpopulation has a unique trait that seperates them from the the other subpopulations (example: MLB baseball is the whole population and each division is a subpopulation). Sampling is then performed on each of these subpopulations which means that each group is getting representation. If this was not done and we did normal sampling instead, then there is a chance that there would be no values chosen from one of the groups."
   ]
  },
  {
   "cell_type": "markdown",
   "id": "2374e427",
   "metadata": {},
   "source": [
    "\n",
    "\n",
    "\n",
    "\n",
    "\n"
   ]
  },
  {
   "cell_type": "markdown",
   "id": "7d1072da",
   "metadata": {},
   "source": [
    "(2) Please explain **underfitting** and **overfitting** in terms of bias, variance and model complexity. (15 points)\n",
    "\n",
    "(For example, please explain in underfitting cases, whether or not the model has high bias and variance, and whether the model should be a complex model or simple model, and explain why. Please also explain the overfitting case.)"
   ]
  },
  {
   "cell_type": "markdown",
   "id": "736c0a05",
   "metadata": {},
   "source": [
    "Underfitting has high bias, low variance, and is simple. The bias is high because the model does not understand the complex relationships and patterns in the data so it is a very simple model. The model has low variance because the flexibility is low and the patterns is the data are not fully captured. Underfitting is where the model that is created is too simple for the dataset so it fails to capture all the complex relationships and patterns. Overfitting has low bias, high variance, and is too complex. The bias is low because all of the patterns and minute details of the data are captured, meaning that it is not too simple. The variance is high because the model is overly flexible and captures too much that is going on in the data such as the random noise. The model has too much complexity because it is trying to capture too much of the patterns and relationships which causes it to perform well on the training set but poorly on the testing set. "
   ]
  },
  {
   "cell_type": "markdown",
   "id": "853d3287",
   "metadata": {},
   "source": [
    "\n",
    "\n",
    "\n",
    "\n",
    "\n"
   ]
  },
  {
   "cell_type": "markdown",
   "id": "005136f8",
   "metadata": {},
   "source": [
    "(3) Please write the pros and cons of Hold-out cross validation. (15 points)"
   ]
  },
  {
   "cell_type": "markdown",
   "id": "3d2d92d6",
   "metadata": {},
   "source": [
    "Hold-out cross validation is a useful technique that allows us to see how the model will perform on data that it has not seen yet. This version of validation is easy to implement and understand because we are just taking a portion of the data and leaving it out to validate the model later. This is more simple than other methods such as k-fold cross validation or leave on out cross validation. It is also much more computationally efficient that these other methods which can save a lot of time and memory when working on larger datasets. A con to this method is that a significant portion of the data is not being used during model training so we are losing information. The other methods use all the data in seperate validations. This is especially prevelent in smaller datasets where we there would be substantial information lost. Another potential issue is that the data that is taken out for validation might have not been the best data to randomly take out. The data might indicate that the model is too good or too bad based on what data is in the validation set. There is no chance to double check the validation performance with different data in the dataset. What is meant by this is that a single split oftentimes does not represent the data well as a whole."
   ]
  },
  {
   "cell_type": "markdown",
   "id": "1371926e",
   "metadata": {},
   "source": [
    "\n",
    "\n",
    "\n",
    "\n",
    "\n"
   ]
  },
  {
   "cell_type": "markdown",
   "id": "aff628b7",
   "metadata": {},
   "source": [
    "(4) Please iillustrate in what circumstances where $R^2$ cannot successfully measure the model performance, and why. (15 points)"
   ]
  },
  {
   "cell_type": "markdown",
   "id": "6320d009",
   "metadata": {},
   "source": [
    "R^2 is a good indicator to evaluate a model because it tells us how much of the variance is predictable by the features in the model. However, there are some circumstances where it is not a good way to measure a models performance. One situation is when a model is not linear because R^2 assumes a linear relationship in the model. The reason that R^2 works for a linear relationship is because its formula takes into account the difference between the actual data points and the predicted values while also taking into account the actual data points and a model if it was just the mean. R^2 has the first part of that in its numerator and the second part in the denominator and this formula assumes a linear relationship. Because of this, when the relationship is not linear it will say that the model performed badly even if it did not. Another situation where R^2 is not the best is when there is the presence of large outliers. These outliers signifcantly impact the equation so there is a disproportionate weight that is being given to these single data points which can alter the overall measure of performance. If there is one data point that is so extreme, then the R^2 might say that the model is not performing well but in reality it is performing reasonably well. Heteroskedacity also is a circumstance where R^2 might not be the best indicator of model performance because R^2 assumes constant variance. When the variance is not constant, the model might give too good or too bad of a performance evaluation"
   ]
  },
  {
   "cell_type": "markdown",
   "id": "83bdad6e",
   "metadata": {},
   "source": [
    "\n",
    "\n",
    "\n",
    "\n",
    "\n"
   ]
  },
  {
   "cell_type": "markdown",
   "id": "9a247c83",
   "metadata": {},
   "source": [
    "### Problem 2 (40 points):\n",
    "Please use the `Social_Network_Ads.csv` dataset to answer the following questions. You can use any libraries you like:\n",
    "\n",
    "(1) Split the dataset into the Training set (75%) and Test set (25%). (10 points)"
   ]
  },
  {
   "cell_type": "code",
   "execution_count": 2,
   "id": "a2dc77e5",
   "metadata": {},
   "outputs": [],
   "source": [
    "import pandas as pd\n",
    "datasets = pd.read_csv('Social_Network_Ads.csv')\n",
    "X = datasets.iloc[:, [2,3]].values\n",
    "Y = datasets.iloc[:, 4].values\n",
    "#uses the age and estimated salary columns to predict the purchased column"
   ]
  },
  {
   "cell_type": "code",
   "execution_count": 31,
   "id": "ad03c689",
   "metadata": {},
   "outputs": [],
   "source": [
    "from sklearn.model_selection import train_test_split\n",
    "\n",
    "#split the dataset into training set (75%) and test set (25%)\n",
    "x_train, x_test, y_train, y_test = train_test_split(X, Y, test_size=0.25, random_state=10)\n",
    "\n"
   ]
  },
  {
   "cell_type": "markdown",
   "id": "0aa69923",
   "metadata": {},
   "source": [
    "(2) Please do feature scailing using StandardScaler from sklean. (10 points)"
   ]
  },
  {
   "cell_type": "code",
   "execution_count": 32,
   "id": "4450c71e",
   "metadata": {},
   "outputs": [],
   "source": [
    "from sklearn.preprocessing import StandardScaler\n",
    "\n",
    "scale = StandardScaler()\n",
    "\n",
    "# fit the scaler on the training set for the x values\n",
    "x_train_scale = scale.fit_transform(x_train)\n",
    "\n",
    "# now on the testing set for the x values\n",
    "x_test_scale = scale.transform(x_test)"
   ]
  },
  {
   "cell_type": "markdown",
   "id": "8509c5cd",
   "metadata": {},
   "source": [
    "(3) Please train a random forest using trainning set (number of trees = 200). (10 points)"
   ]
  },
  {
   "cell_type": "code",
   "execution_count": 33,
   "id": "a4155d2c",
   "metadata": {},
   "outputs": [
    {
     "data": {
      "text/html": [
       "<style>#sk-container-id-4 {color: black;background-color: white;}#sk-container-id-4 pre{padding: 0;}#sk-container-id-4 div.sk-toggleable {background-color: white;}#sk-container-id-4 label.sk-toggleable__label {cursor: pointer;display: block;width: 100%;margin-bottom: 0;padding: 0.3em;box-sizing: border-box;text-align: center;}#sk-container-id-4 label.sk-toggleable__label-arrow:before {content: \"▸\";float: left;margin-right: 0.25em;color: #696969;}#sk-container-id-4 label.sk-toggleable__label-arrow:hover:before {color: black;}#sk-container-id-4 div.sk-estimator:hover label.sk-toggleable__label-arrow:before {color: black;}#sk-container-id-4 div.sk-toggleable__content {max-height: 0;max-width: 0;overflow: hidden;text-align: left;background-color: #f0f8ff;}#sk-container-id-4 div.sk-toggleable__content pre {margin: 0.2em;color: black;border-radius: 0.25em;background-color: #f0f8ff;}#sk-container-id-4 input.sk-toggleable__control:checked~div.sk-toggleable__content {max-height: 200px;max-width: 100%;overflow: auto;}#sk-container-id-4 input.sk-toggleable__control:checked~label.sk-toggleable__label-arrow:before {content: \"▾\";}#sk-container-id-4 div.sk-estimator input.sk-toggleable__control:checked~label.sk-toggleable__label {background-color: #d4ebff;}#sk-container-id-4 div.sk-label input.sk-toggleable__control:checked~label.sk-toggleable__label {background-color: #d4ebff;}#sk-container-id-4 input.sk-hidden--visually {border: 0;clip: rect(1px 1px 1px 1px);clip: rect(1px, 1px, 1px, 1px);height: 1px;margin: -1px;overflow: hidden;padding: 0;position: absolute;width: 1px;}#sk-container-id-4 div.sk-estimator {font-family: monospace;background-color: #f0f8ff;border: 1px dotted black;border-radius: 0.25em;box-sizing: border-box;margin-bottom: 0.5em;}#sk-container-id-4 div.sk-estimator:hover {background-color: #d4ebff;}#sk-container-id-4 div.sk-parallel-item::after {content: \"\";width: 100%;border-bottom: 1px solid gray;flex-grow: 1;}#sk-container-id-4 div.sk-label:hover label.sk-toggleable__label {background-color: #d4ebff;}#sk-container-id-4 div.sk-serial::before {content: \"\";position: absolute;border-left: 1px solid gray;box-sizing: border-box;top: 0;bottom: 0;left: 50%;z-index: 0;}#sk-container-id-4 div.sk-serial {display: flex;flex-direction: column;align-items: center;background-color: white;padding-right: 0.2em;padding-left: 0.2em;position: relative;}#sk-container-id-4 div.sk-item {position: relative;z-index: 1;}#sk-container-id-4 div.sk-parallel {display: flex;align-items: stretch;justify-content: center;background-color: white;position: relative;}#sk-container-id-4 div.sk-item::before, #sk-container-id-4 div.sk-parallel-item::before {content: \"\";position: absolute;border-left: 1px solid gray;box-sizing: border-box;top: 0;bottom: 0;left: 50%;z-index: -1;}#sk-container-id-4 div.sk-parallel-item {display: flex;flex-direction: column;z-index: 1;position: relative;background-color: white;}#sk-container-id-4 div.sk-parallel-item:first-child::after {align-self: flex-end;width: 50%;}#sk-container-id-4 div.sk-parallel-item:last-child::after {align-self: flex-start;width: 50%;}#sk-container-id-4 div.sk-parallel-item:only-child::after {width: 0;}#sk-container-id-4 div.sk-dashed-wrapped {border: 1px dashed gray;margin: 0 0.4em 0.5em 0.4em;box-sizing: border-box;padding-bottom: 0.4em;background-color: white;}#sk-container-id-4 div.sk-label label {font-family: monospace;font-weight: bold;display: inline-block;line-height: 1.2em;}#sk-container-id-4 div.sk-label-container {text-align: center;}#sk-container-id-4 div.sk-container {/* jupyter's `normalize.less` sets `[hidden] { display: none; }` but bootstrap.min.css set `[hidden] { display: none !important; }` so we also need the `!important` here to be able to override the default hidden behavior on the sphinx rendered scikit-learn.org. See: https://github.com/scikit-learn/scikit-learn/issues/21755 */display: inline-block !important;position: relative;}#sk-container-id-4 div.sk-text-repr-fallback {display: none;}</style><div id=\"sk-container-id-4\" class=\"sk-top-container\"><div class=\"sk-text-repr-fallback\"><pre>RandomForestClassifier(n_estimators=200, random_state=10)</pre><b>In a Jupyter environment, please rerun this cell to show the HTML representation or trust the notebook. <br />On GitHub, the HTML representation is unable to render, please try loading this page with nbviewer.org.</b></div><div class=\"sk-container\" hidden><div class=\"sk-item\"><div class=\"sk-estimator sk-toggleable\"><input class=\"sk-toggleable__control sk-hidden--visually\" id=\"sk-estimator-id-4\" type=\"checkbox\" checked><label for=\"sk-estimator-id-4\" class=\"sk-toggleable__label sk-toggleable__label-arrow\">RandomForestClassifier</label><div class=\"sk-toggleable__content\"><pre>RandomForestClassifier(n_estimators=200, random_state=10)</pre></div></div></div></div></div>"
      ],
      "text/plain": [
       "RandomForestClassifier(n_estimators=200, random_state=10)"
      ]
     },
     "execution_count": 33,
     "metadata": {},
     "output_type": "execute_result"
    }
   ],
   "source": [
    "from sklearn.ensemble import RandomForestClassifier\n",
    "\n",
    "# beginning the creation the random forest 200 trees and a random state of 10\n",
    "random_forest = RandomForestClassifier(n_estimators=200, random_state=10)\n",
    "\n",
    "# train the model\n",
    "random_forest.fit(x_train_scale, y_train)\n",
    "\n",
    "\n"
   ]
  },
  {
   "cell_type": "markdown",
   "id": "5b38609f",
   "metadata": {},
   "source": [
    "(4) Predict the test results and create a confusion matrix. (10 points)"
   ]
  },
  {
   "cell_type": "code",
   "execution_count": 34,
   "id": "2abb8e4f",
   "metadata": {},
   "outputs": [
    {
     "data": {
      "text/plain": [
       "array([[62,  7],\n",
       "       [ 2, 29]], dtype=int64)"
      ]
     },
     "execution_count": 34,
     "metadata": {},
     "output_type": "execute_result"
    }
   ],
   "source": [
    "from sklearn.metrics import confusion_matrix\n",
    "\n",
    "# make the predictions\n",
    "prediction = random_forest.predict(x_test_scale)\n",
    "\n",
    "# make a confusion matrix based on the results\n",
    "confusion_matrix = confusion_matrix(y_test, prediction)\n",
    "\n",
    "confusion_matrix"
   ]
  },
  {
   "cell_type": "code",
   "execution_count": 35,
   "id": "2cfc1293",
   "metadata": {},
   "outputs": [
    {
     "data": {
      "image/png": "[encoded data removed]",
      "text/plain": [
       "<Figure size 640x480 with 2 Axes>"
      ]
     },
     "metadata": {},
     "output_type": "display_data"
    }
   ],
   "source": [
    "import seaborn as sns\n",
    "import matplotlib.pyplot as plt\n",
    "\n",
    "#make a confustion matrix heatmap using seaborn\n",
    "sns.heatmap(confusion_matrix, annot=True)\n",
    "\n",
    "# add labels using matplotlib\n",
    "plt.xlabel(\"Predictions\")\n",
    "plt.ylabel(\"Actual\")\n",
    "plt.title(\"Confusion Matrix\")\n",
    "\n",
    "plt.show()"
   ]
  },
  {
   "cell_type": "markdown",
   "id": "3b474356",
   "metadata": {},
   "source": [
    "# Done\n",
    "\n",
    "All set! \n",
    "\n",
    "**What do you need to submit?**\n",
    "\n",
    "* **Notebook File**: Save this IPython notebook, and rename it with your name (for example, \"yourname.ipynb\"). This is the file you need to submit. Please make sure all the testing results are in the notebook. "
   ]
  },
  {
   "cell_type": "code",
   "execution_count": null,
   "id": "24f3a8c5",
   "metadata": {},
   "outputs": [],
   "source": []
  }
 ],
 "metadata": {
  "kernelspec": {
   "display_name": "Python 3 (ipykernel)",
   "language": "python",
   "name": "python3"
  },
  "language_info": {
   "codemirror_mode": {
    "name": "ipython",
    "version": 3
   },
   "file_extension": ".py",
   "mimetype": "text/x-python",
   "name": "python",
   "nbconvert_exporter": "python",
   "pygments_lexer": "ipython3",
   "version": "3.10.9"
  }
 },
 "nbformat": 4,
 "nbformat_minor": 5
}
